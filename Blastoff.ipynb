{
  "cells": [
    {
      "cell_type": "code",
      "execution_count": null,
      "metadata": {
        "id": "nOnr_7UEl9Wu"
      },
      "outputs": [],
      "source": []
    },
    {
      "cell_type": "markdown",
      "metadata": {
        "id": "HJFlf5PimCpr"
      },
      "source": [
        "1)Dada as idades I, J, K, X, Y. Faça um algoritmo para calcular a média das idades.\n"
      ]
    },
    {
      "cell_type": "code",
      "execution_count": null,
      "metadata": {
        "colab": {
          "base_uri": "https://localhost:8080/"
        },
        "id": "BNunklwNmG4M",
        "outputId": "714f9cfe-6034-470e-ae7d-8cf91f7f7432"
      },
      "outputs": [
        {
          "name": "stdout",
          "output_type": "stream",
          "text": [
            "Idade de I20\n",
            "Idade de J10\n",
            "Idade de K30\n",
            "Idade de X40\n",
            "Idade de Y23\n",
            "A média entre 20.0 e 10.0 e 30.0 e 40.0 e 23.0 é igual a 24.6\n"
          ]
        }
      ],
      "source": [
        "I = float(input('Idade de I'))\n",
        "J = float(input('Idade de J'))\n",
        "K = float(input('Idade de K'))\n",
        "X = float(input('Idade de X'))\n",
        "Y = float(input('Idade de Y'))\n",
        "média = (I+J+K+X+Y) / 5\n",
        "print('A média entre {} e {} e {} e {} e {} é igual a {}'.format(I, J, K, X, Y, média))"
      ]
    },
    {
      "cell_type": "markdown",
      "metadata": {
        "id": "7tT2Geraq_yc"
      },
      "source": [
        "2) Dada a distância A e o combustível gasto B, faça um algoritmo para calcular o consumo médio"
      ]
    },
    {
      "cell_type": "code",
      "execution_count": null,
      "metadata": {
        "colab": {
          "base_uri": "https://localhost:8080/"
        },
        "id": "CUo22X_srPTQ",
        "outputId": "5c54b448-fee8-4e5a-b237-6aa984b4f939"
      },
      "outputs": [
        {
          "name": "stdout",
          "output_type": "stream",
          "text": [
            "Distância percorrida100\n",
            "Combustível gasto10\n",
            "Consumo médio = 10.00 Km/l\n"
          ]
        }
      ],
      "source": [
        "A = float(input('Distância percorrida'))\n",
        "B = float(input('Combustível gasto'))\n",
        "C = A / B\n",
        "print('Consumo médio = %.2f Km/l' %C)\n"
      ]
    },
    {
      "cell_type": "markdown",
      "metadata": {
        "id": "z_fA22xwrJk5"
      },
      "source": [
        "3) Dados três números (a, b, c), faça um algoritmo para mostrar o menor número.\n"
      ]
    },
    {
      "cell_type": "code",
      "execution_count": null,
      "metadata": {
        "colab": {
          "base_uri": "https://localhost:8080/"
        },
        "id": "_0A94d3hum9p",
        "outputId": "15e4cf40-b452-4c69-8f3a-043d8c2b0d50"
      },
      "outputs": [
        {
          "name": "stdout",
          "output_type": "stream",
          "text": [
            "Primeiro valor: 2\n",
            "Segundo valor: 3\n",
            "Terceiro valor: 4\n",
            "O menor valor digitado foi 2\n"
          ]
        }
      ],
      "source": [
        "a = int(input('Primeiro valor: '))\n",
        "b = int(input('Segundo valor: '))\n",
        "c = int(input('Terceiro valor: '))\n",
        "menor = a\n",
        "if b<a and b<c:\n",
        "    menor = b\n",
        "if c<a and c<b:\n",
        "    menor = c\n",
        "print('O menor valor digitado foi {}'.format(menor))"
      ]
    },
    {
      "cell_type": "markdown",
      "metadata": {
        "id": "fKpVzQhjxH1x"
      },
      "source": [
        "4)- Faça um algoritmo que converta a temperatura de C para F. Utilize a fórmula"
      ]
    },
    {
      "cell_type": "code",
      "execution_count": null,
      "metadata": {
        "colab": {
          "base_uri": "https://localhost:8080/"
        },
        "id": "poTwfZnxxM-s",
        "outputId": "97846c11-6a0b-482b-9571-999bc2efe90a"
      },
      "outputs": [
        {
          "name": "stdout",
          "output_type": "stream",
          "text": [
            "Informe a temperatura em °C: 50\n",
            "A temperatura de 50.0 °C corresponde a 122.0°F!\n"
          ]
        }
      ],
      "source": [
        "C = float(input('Informe a temperatura em °C: '))\n",
        "F = ((9*C)/5)+32\n",
        "print('A temperatura de {} °C corresponde a {}°F!'.format(C, F))"
      ]
    },
    {
      "cell_type": "markdown",
      "metadata": {
        "id": "VuJhPkox0eEI"
      },
      "source": [
        "5) - Faça um algoritmo para apresentar se dois números são múltiplos"
      ]
    },
    {
      "cell_type": "code",
      "execution_count": null,
      "metadata": {
        "colab": {
          "base_uri": "https://localhost:8080/"
        },
        "id": "rU8w4vyO0fka",
        "outputId": "a3f763b7-3f6d-4ab0-bc65-9ed41f813110"
      },
      "outputs": [
        {
          "name": "stdout",
          "output_type": "stream",
          "text": [
            "Digite um número: 80\n",
            "Digite outro número: 2\n",
            "\n",
            "São múltiplos.\n"
          ]
        }
      ],
      "source": [
        "a = int(input(\"Digite um número: \"))\n",
        "b = int(input(\"Digite outro número: \"))\n",
        "\n",
        "if a % b == 0:\n",
        "    print(\"\\nSão múltiplos.\")\n",
        "else:\n",
        "    print(\"\\nNão são múltiplos\")"
      ]
    },
    {
      "cell_type": "markdown",
      "metadata": {
        "id": "HDmStXrS2Q5o"
      },
      "source": [
        "6) Uma partida de futebol iniciou na hora A e terminou na hora B. Faça um algoritmo que\n",
        "calcule o tempo que durou a partida."
      ]
    },
    {
      "cell_type": "code",
      "execution_count": null,
      "metadata": {
        "colab": {
          "base_uri": "https://localhost:8080/"
        },
        "id": "3VLxh-rz2Sfh",
        "outputId": "d9a1c7d9-0228-4a68-80e2-818b76e6498d"
      },
      "outputs": [
        {
          "name": "stdout",
          "output_type": "stream",
          "text": [
            "Informe a hora do início do jogo: 15\n",
            "Informe a hora de término do jogo: 19\n",
            "4\n"
          ]
        }
      ],
      "source": [
        "import time\n",
        "start = int(input('Informe a hora do início do jogo: '))\n",
        "done = int(input('Informe a hora de término do jogo: '))\n",
        "elapsed = done - start\n",
        "print(elapsed)\n",
        "\n",
        "\n",
        "\n",
        "\n",
        "\n"
      ]
    },
    {
      "cell_type": "markdown",
      "metadata": {
        "id": "rVm2-vCU87NT"
      },
      "source": [
        "7) Dada uma lista de números A[1,2,3,…], faça um algoritmo que retorne uma lista somente\n",
        "com os números pares."
      ]
    },
    {
      "cell_type": "code",
      "execution_count": null,
      "metadata": {
        "colab": {
          "base_uri": "https://localhost:8080/"
        },
        "id": "-Twq7E-rAIBV",
        "outputId": "00de06e3-d8c7-461c-b525-c6dd1b9cba46"
      },
      "outputs": [
        {
          "name": "stdout",
          "output_type": "stream",
          "text": [
            "Digite o 1° valor: 1\n",
            "Digite o 2° valor: 2\n",
            "Digite o 3° valor: 3\n",
            "Digite o 4° valor: 4\n",
            "Digite o 5° valor: 5\n",
            "Digite o 6° valor: 6\n",
            "Digite o 7° valor: 7\n",
            "Os valores pares digitados foram: [2, 4, 6]\n"
          ]
        }
      ],
      "source": [
        "valores = [[], []]\n",
        "for v in range(1, 8):\n",
        "    valor = int(input(f'Digite o {v}° valor: '))\n",
        "    if valor % 2 == 0:\n",
        "        valores[0].append(valor)\n",
        "    else:\n",
        "        valores[1].append(valor)\n",
        "print(f'Os valores pares digitados foram: {sorted(valores[0])}')\n"
      ]
    },
    {
      "cell_type": "markdown",
      "metadata": {
        "id": "A_6p-Nw0AeUG"
      },
      "source": [
        "8) Faça um algoritmo que receba um número e retorne se o número é primo ou não."
      ]
    },
    {
      "cell_type": "code",
      "execution_count": null,
      "metadata": {
        "colab": {
          "base_uri": "https://localhost:8080/"
        },
        "id": "n0U1WbARAhtW",
        "outputId": "f53dac83-aaf3-4f31-b525-e12b3f72c310"
      },
      "outputs": [
        {
          "name": "stdout",
          "output_type": "stream",
          "text": [
            "Digite um número: 17\n",
            "O número 17 foi divisível 2 vezes!\n",
            "O número é primo\n"
          ]
        }
      ],
      "source": [
        "num = int(input(\"Digite um número: \"))\n",
        "contador = 0\n",
        "\n",
        "for i in range(1, num + 1):\n",
        "    if num % i == 0:\n",
        "        contador += 1\n",
        "\n",
        "print(\"O número {} foi divisível {} vezes!\".format(num, contador))\n",
        "\n",
        "if contador == 2:\n",
        "    print(\"O número é primo\")\n",
        "else:\n",
        "    print(\"O número não é primo\")"
      ]
    },
    {
      "cell_type": "markdown",
      "metadata": {
        "id": "uzl2qLJRB2PJ"
      },
      "source": [
        "9) - Faça um algoritmo que receba um número e retorne a tabuada desse número."
      ]
    },
    {
      "cell_type": "code",
      "execution_count": null,
      "metadata": {
        "colab": {
          "base_uri": "https://localhost:8080/"
        },
        "id": "1NtCxjAEB37R",
        "outputId": "14e95b1e-7510-4ad3-af5e-62bf223dde3a"
      },
      "outputs": [
        {
          "name": "stdout",
          "output_type": "stream",
          "text": [
            "Digite um número: 5\n",
            " 5 x  1 =  5\n",
            " 5 x  2 = 10\n",
            " 5 x  3 = 15\n",
            " 5 x  4 = 20\n",
            " 5 x  5 = 25\n",
            " 5 x  6 = 30\n",
            " 5 x  7 = 35\n",
            " 5 x  8 = 40\n",
            " 5 x  9 = 45\n",
            " 5 x 10 = 50\n"
          ]
        }
      ],
      "source": [
        "n = int(input('Digite um número: '))\n",
        "for x in range(1, 11):\n",
        "    print(f'{n :2} x {x :2} = {n * x :2}')\n"
      ]
    },
    {
      "cell_type": "markdown",
      "metadata": {
        "id": "wk493IXjCeuB"
      },
      "source": [
        "10) - Faça um algoritmo que receba um número e retorne o Fatorial desse número."
      ]
    },
    {
      "cell_type": "code",
      "execution_count": null,
      "metadata": {
        "colab": {
          "base_uri": "https://localhost:8080/"
        },
        "id": "cJ5DfnKNCgB7",
        "outputId": "98118e3c-61ca-4e1a-f7b0-965c70d2b15a"
      },
      "outputs": [
        {
          "name": "stdout",
          "output_type": "stream",
          "text": [
            "Digite um numero para calcular seu fatorial: 4\n",
            "Seu fatorial é 24.\n"
          ]
        }
      ],
      "source": [
        "n = int(input('Digite um numero para calcular seu fatorial: '))\n",
        "\n",
        "c = 0\n",
        "f = 1\n",
        "for c in range (1, n):\n",
        "    f *= n\n",
        "    n -= 1\n",
        "print('Seu fatorial é {}.'.format(f))"
      ]
    },
    {
      "cell_type": "markdown",
      "metadata": {
        "id": "0r7_JBXJCr9H"
      },
      "source": [
        "11) Dada duas lista de números A[1,2,3,4] e B[1,2,5,8], faça um algoritmo que retorne a\n",
        "intersecção das listas"
      ]
    },
    {
      "cell_type": "code",
      "execution_count": null,
      "metadata": {
        "colab": {
          "base_uri": "https://localhost:8080/"
        },
        "id": "H5PCFx20C2EQ",
        "outputId": "2eaac5c2-a673-465a-fcb0-5bfb8ceb29ae"
      },
      "outputs": [
        {
          "data": {
            "text/plain": [
              "{1, 2}"
            ]
          },
          "execution_count": 51,
          "metadata": {},
          "output_type": "execute_result"
        }
      ],
      "source": [
        "a = [1,2,3,4]\n",
        "b = [1,2,5,8]\n",
        "set(a).intersection(set(b))\n"
      ]
    },
    {
      "cell_type": "markdown",
      "metadata": {
        "id": "EEWaGeHWEiLP"
      },
      "source": [
        "12) Dada duas lista de números A[1,2,3,4] e B[1,2,5,8], faça um algoritmo que retorne a\n",
        "concatenação das listas."
      ]
    },
    {
      "cell_type": "code",
      "execution_count": null,
      "metadata": {
        "colab": {
          "base_uri": "https://localhost:8080/"
        },
        "id": "okSSyS5MEkDV",
        "outputId": "4f2f22d3-84ac-45b5-ada4-5f0473dc41e1"
      },
      "outputs": [
        {
          "data": {
            "text/plain": [
              "[1, 2, 3, 4, 1, 2, 5, 8]"
            ]
          },
          "execution_count": 62,
          "metadata": {},
          "output_type": "execute_result"
        }
      ],
      "source": [
        "a = [1,2,3,4]\n",
        "b = [1,2,5,8]\n",
        "a+b"
      ]
    },
    {
      "cell_type": "markdown",
      "metadata": {
        "id": "-QAUSZNMFXme"
      },
      "source": [
        "13) - Faça um algoritmo que receba uma matriz[i,z] como parâmetro e imprima todos os\n",
        "valores dessa matriz."
      ]
    },
    {
      "cell_type": "code",
      "execution_count": null,
      "metadata": {
        "colab": {
          "base_uri": "https://localhost:8080/"
        },
        "id": "Lbm96MecFYqi",
        "outputId": "9f3801b9-c74a-4d7f-b8d9-1dddabe9138e"
      },
      "outputs": [
        {
          "name": "stdout",
          "output_type": "stream",
          "text": [
            "Digite um valor para [0,0]: 1\n",
            "Digite um valor para [0,1]: 3\n",
            "Digite um valor para [0,2]: 2\n",
            "Digite um valor para [1,0]: 5\n",
            "Digite um valor para [1,1]: 5\n",
            "Digite um valor para [1,2]: 6\n",
            "Digite um valor para [2,0]: 7\n",
            "Digite um valor para [2,1]: 9\n",
            "Digite um valor para [2,2]: 4\n",
            "-=-=-=-=-=-=-=-=-=-=-=-=-=-=-=-=-=-=-=-=-=-=-=-=-=-=-=-=-=-=\n",
            "[  1  ][  3  ][  2  ]\n",
            "[  5  ][  5  ][  6  ]\n",
            "[  7  ][  9  ][  4  ]\n"
          ]
        }
      ],
      "source": [
        "matriz = [[],[],[]]\n",
        "for i in range(0,3):\n",
        "        for z in range(0,3):\n",
        "                matriz[i].append(int(input(f\"Digite um valor para [{i},{z}]: \")))\n",
        "print('-='*30)\n",
        "for i in range(0,3):\n",
        "        for z in range(0,3):\n",
        "                print(f'[{matriz[i][z]:^5}]', end='')\n",
        "        print()"
      ]
    },
    {
      "cell_type": "markdown",
      "metadata": {
        "id": "KRwlwLxOGYRm"
      },
      "source": [
        "14) Faça um algoritmo que recebe uma palavra e retorne se a palavra é palíndromo.\n",
        "(Palavra que se pode ler, indiferentemente, da esquerda para direita ou vice-versa. Ex: osso,\n",
        "Ana e etc).\n"
      ]
    },
    {
      "cell_type": "code",
      "execution_count": null,
      "metadata": {
        "colab": {
          "base_uri": "https://localhost:8080/"
        },
        "id": "7mhu3k8-GaE7",
        "outputId": "beae1835-ad89-47cf-bfcc-0bb6f3542aef"
      },
      "outputs": [
        {
          "name": "stdout",
          "output_type": "stream",
          "text": [
            "Digite uma frase: coco oco\n",
            "COCO OCO não é palindromo\n"
          ]
        }
      ],
      "source": [
        "texto = str(input('Digite uma frase: ')).upper()\n",
        "if texto.replace(' ', '') == texto[::-1].replace(' ', ''):\n",
        "    print(texto.replace(' ', ''))\n",
        "    print('É um palíndromo')\n",
        "else:\n",
        "    print(texto, 'não é palindromo')"
      ]
    }
  ],
  "metadata": {
    "colab": {
      "collapsed_sections": [],
      "name": "Blastoff.ipynb",
      "provenance": []
    },
    "kernelspec": {
      "display_name": "Python 3",
      "name": "python3"
    },
    "language_info": {
      "name": "python"
    }
  },
  "nbformat": 4,
  "nbformat_minor": 0
}
